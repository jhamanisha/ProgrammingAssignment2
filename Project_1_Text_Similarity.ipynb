{
  "nbformat": 4,
  "nbformat_minor": 0,
  "metadata": {
    "colab": {
      "name": "Project_1_Text-Similarity.ipynb",
      "version": "0.3.2",
      "provenance": [],
      "collapsed_sections": [
        "f3xgDCoSbDeV"
      ],
      "include_colab_link": true
    },
    "kernelspec": {
      "display_name": "Python 3",
      "language": "python",
      "name": "python3"
    }
  },
  "cells": [
    {
      "cell_type": "markdown",
      "metadata": {
        "id": "view-in-github",
        "colab_type": "text"
      },
      "source": [
        "[View in Colaboratory](https://colab.research.google.com/github/jhamanisha/ProgrammingAssignment2/blob/master/Project_1_Text_Similarity.ipynb)"
      ]
    },
    {
      "metadata": {
        "id": "d8yO2TPpbGJi",
        "colab_type": "text"
      },
      "cell_type": "markdown",
      "source": [
        "# **Imports**"
      ]
    },
    {
      "metadata": {
        "id": "WcB0tPXqbDdZ",
        "colab_type": "code",
        "colab": {
          "base_uri": "https://localhost:8080/",
          "height": 34
        },
        "outputId": "ebcc305f-a0a4-4a37-cc84-184a027c287d"
      },
      "cell_type": "code",
      "source": [
        "# This Python 3 environment comes with many helpful analytics libraries installed\n",
        "# It is defined by the kaggle/python docker image: https://github.com/kaggle/docker-python\n",
        "# For example, here's several helpful packages to load in \n",
        "from tensorflow.keras.callbacks import LambdaCallback\n",
        "from tensorflow.keras.models import Sequential\n",
        "from tensorflow.keras.layers import Dense, Activation\n",
        "from tensorflow.keras.layers import LSTM\n",
        "from tensorflow.keras.optimizers import RMSprop\n",
        "from keras.utils.data_utils import get_file\n",
        "\n",
        "import tensorflow as tf\n",
        "import numpy as np # linear algebra\n",
        "import random\n",
        "import sys\n",
        "import io\n",
        "import pandas as pd # data processing, CSV file I/O (e.g. pd.read_csv)\n",
        "\n",
        "# Input data files are available in the \"../input/\" directory.\n",
        "# For example, running this (by clicking run or pressing Shift+Enter) will list the files in the input directory\n",
        "\n",
        "#from subprocess import check_output\n",
        "#print(check_output([\"ls\", \"../input\"]).decode(\"utf8\"))\n",
        "\n",
        "# Any results you write to the current directory are saved as output."
      ],
      "execution_count": 1,
      "outputs": [
        {
          "output_type": "stream",
          "text": [
            "Using TensorFlow backend.\n"
          ],
          "name": "stderr"
        }
      ]
    },
    {
      "metadata": {
        "id": "OFD3T0Brbunl",
        "colab_type": "code",
        "colab": {
          "base_uri": "https://localhost:8080/",
          "height": 51
        },
        "outputId": "4b67a731-57a5-460b-d800-1f65e9992961"
      },
      "cell_type": "code",
      "source": [
        "print(tf.keras.__version__)\n",
        "print(tf.__version__)"
      ],
      "execution_count": 2,
      "outputs": [
        {
          "output_type": "stream",
          "text": [
            "2.1.6-tf\n",
            "1.10.1\n"
          ],
          "name": "stdout"
        }
      ]
    },
    {
      "metadata": {
        "id": "q76s-VESb0Cv",
        "colab_type": "code",
        "colab": {
          "base_uri": "https://localhost:8080/",
          "height": 85
        },
        "outputId": "f1dd5f17-ce30-44bd-fe07-6232b009b5b1"
      },
      "cell_type": "code",
      "source": [
        "!ls\n",
        "!"
      ],
      "execution_count": 3,
      "outputs": [
        {
          "output_type": "stream",
          "text": [
            "gdrive.py   sample_data  urls.txt    wget-log.3  wget-log.7  x_train.txt\n",
            "labels.csv  sutils.py\t wget-log    wget-log.4  wget-log.8  y_test.txt\n",
            "__MACOSX    test.csv\t wget-log.1  wget-log.5  wget-log.9  y_train.txt\n",
            "README.txt  train.csv\t wget-log.2  wget-log.6  x_test.txt\n"
          ],
          "name": "stdout"
        }
      ]
    },
    {
      "metadata": {
        "id": "rVWKyzwEbDdl",
        "colab_type": "code",
        "colab": {}
      },
      "cell_type": "code",
      "source": [
        "from IPython.display import display, HTML\n",
        "import matplotlib.pyplot as plt"
      ],
      "execution_count": 0,
      "outputs": []
    },
    {
      "metadata": {
        "id": "iVzVNWPQb_FE",
        "colab_type": "text"
      },
      "cell_type": "markdown",
      "source": [
        "# Load Dataset"
      ]
    },
    {
      "metadata": {
        "id": "G6im5ilzbDdw",
        "colab_type": "code",
        "colab": {
          "base_uri": "https://localhost:8080/",
          "height": 272
        },
        "outputId": "896db2d3-d327-4807-dedf-4534b5c405c2"
      },
      "cell_type": "code",
      "source": [
        "\n",
        "!wget -qq  https://www.dropbox.com/s/lnp4bn4wm3lhie1/utils.zip\n",
        "!wget https://www.dropbox.com/s/rtjelse713xwzjj/text-similarity.zip \n",
        "#!wget https://www.dropbox.com/s/65qpj88viuboeeo/wili-2018.zip\n",
        "  \n",
        "!unzip -qq utils.zip\n",
        "!rm utils.zip\n",
        "\n",
        "!unzip -qq text-similarity.zip\n",
        "!rm text-similarity.zip\n",
        "\n",
        "#!unzip -qq wili-2018.zip\n",
        "#!rm wili-2018.zip\n",
        "\n",
        "!ls"
      ],
      "execution_count": 5,
      "outputs": [
        {
          "output_type": "stream",
          "text": [
            "\n",
            "Redirecting output to ‘wget-log.10’.\n",
            "\n",
            "Redirecting output to ‘wget-log.11’.\n",
            "replace gdrive.py? [y]es, [n]o, [A]ll, [N]one, [r]ename: y\n",
            "replace __MACOSX/._gdrive.py? [y]es, [n]o, [A]ll, [N]one, [r]ename: y\n",
            "replace sutils.py? [y]es, [n]o, [A]ll, [N]one, [r]ename: y\n",
            "replace __MACOSX/._sutils.py? [y]es, [n]o, [A]ll, [N]one, [r]ename: y\n",
            "replace test.csv? [y]es, [n]o, [A]ll, [N]one, [r]ename: y\n",
            "replace train.csv? [y]es, [n]o, [A]ll, [N]one, [r]ename: y\n",
            "gdrive.py    sutils.py\twget-log.1   wget-log.4  wget-log.9\n",
            "labels.csv   test.csv\twget-log.10  wget-log.5  x_test.txt\n",
            "__MACOSX     train.csv\twget-log.11  wget-log.6  x_train.txt\n",
            "README.txt   urls.txt\twget-log.2   wget-log.7  y_test.txt\n",
            "sample_data  wget-log\twget-log.3   wget-log.8  y_train.txt\n"
          ],
          "name": "stdout"
        }
      ]
    },
    {
      "metadata": {
        "id": "mTO_RUtbd7zO",
        "colab_type": "code",
        "colab": {
          "base_uri": "https://localhost:8080/",
          "height": 425
        },
        "outputId": "2ac3c599-a4c3-45db-9494-9f2c09cf3666"
      },
      "cell_type": "code",
      "source": [
        "df_train = pd.read_csv('train.csv', encoding=\"ISO-8859-1\")\n",
        "df_test = pd.read_csv('test.csv', encoding=\"ISO-8859-1\")\n",
        "\n",
        "#df_train = pd.read_fwf('y_train.txt', encoding=\"ISO-8859-1\")\n",
        "#df_test = pd.read_fwf('y_test.txt', encoding=\"ISO-8859-1\")\n",
        "\n",
        "df_train = df_train.rename(columns = {'Unnamed: 0':'train_id'})\n",
        "\n",
        "print('df_train:', df_train.shape)\n",
        "display(df_train.head(5))\n",
        "\n",
        "print('df_test:', df_test.shape)\n",
        "display(df_test.head(5))"
      ],
      "execution_count": 6,
      "outputs": [
        {
          "output_type": "stream",
          "text": [
            "df_train: (2142, 6)\n"
          ],
          "name": "stdout"
        },
        {
          "output_type": "display_data",
          "data": {
            "text/html": [
              "<div>\n",
              "<style scoped>\n",
              "    .dataframe tbody tr th:only-of-type {\n",
              "        vertical-align: middle;\n",
              "    }\n",
              "\n",
              "    .dataframe tbody tr th {\n",
              "        vertical-align: top;\n",
              "    }\n",
              "\n",
              "    .dataframe thead th {\n",
              "        text-align: right;\n",
              "    }\n",
              "</style>\n",
              "<table border=\"1\" class=\"dataframe\">\n",
              "  <thead>\n",
              "    <tr style=\"text-align: right;\">\n",
              "      <th></th>\n",
              "      <th>train_id</th>\n",
              "      <th>description_x</th>\n",
              "      <th>description_y</th>\n",
              "      <th>ticker_x</th>\n",
              "      <th>ticker_y</th>\n",
              "      <th>same_security</th>\n",
              "    </tr>\n",
              "  </thead>\n",
              "  <tbody>\n",
              "    <tr>\n",
              "      <th>0</th>\n",
              "      <td>0</td>\n",
              "      <td>first trust dow jones internet</td>\n",
              "      <td>first trust dj internet idx</td>\n",
              "      <td>FDN</td>\n",
              "      <td>FDN</td>\n",
              "      <td>True</td>\n",
              "    </tr>\n",
              "    <tr>\n",
              "      <th>1</th>\n",
              "      <td>1</td>\n",
              "      <td>schwab intl large company index etf</td>\n",
              "      <td>schwab strategic tr fundamental intl large co ...</td>\n",
              "      <td>FNDF</td>\n",
              "      <td>FNDF</td>\n",
              "      <td>True</td>\n",
              "    </tr>\n",
              "    <tr>\n",
              "      <th>2</th>\n",
              "      <td>2</td>\n",
              "      <td>vanguard small cap index adm</td>\n",
              "      <td>vanguard small-cap index fund inst</td>\n",
              "      <td>VSMAX</td>\n",
              "      <td>VSCIX</td>\n",
              "      <td>False</td>\n",
              "    </tr>\n",
              "    <tr>\n",
              "      <th>3</th>\n",
              "      <td>3</td>\n",
              "      <td>duke energy corp new com new isin #us4 sedol #...</td>\n",
              "      <td>duke energy corp new com new isin #us26441c204...</td>\n",
              "      <td>DUK</td>\n",
              "      <td>DUK</td>\n",
              "      <td>True</td>\n",
              "    </tr>\n",
              "    <tr>\n",
              "      <th>4</th>\n",
              "      <td>4</td>\n",
              "      <td>visa inc class a</td>\n",
              "      <td>visa inc.</td>\n",
              "      <td>V</td>\n",
              "      <td>V</td>\n",
              "      <td>True</td>\n",
              "    </tr>\n",
              "  </tbody>\n",
              "</table>\n",
              "</div>"
            ],
            "text/plain": [
              "   train_id                                      description_x  \\\n",
              "0         0                     first trust dow jones internet   \n",
              "1         1                schwab intl large company index etf   \n",
              "2         2                       vanguard small cap index adm   \n",
              "3         3  duke energy corp new com new isin #us4 sedol #...   \n",
              "4         4                                   visa inc class a   \n",
              "\n",
              "                                       description_y ticker_x ticker_y  \\\n",
              "0                        first trust dj internet idx      FDN      FDN   \n",
              "1  schwab strategic tr fundamental intl large co ...     FNDF     FNDF   \n",
              "2                 vanguard small-cap index fund inst    VSMAX    VSCIX   \n",
              "3  duke energy corp new com new isin #us26441c204...      DUK      DUK   \n",
              "4                                          visa inc.        V        V   \n",
              "\n",
              "   same_security  \n",
              "0           True  \n",
              "1           True  \n",
              "2          False  \n",
              "3           True  \n",
              "4           True  "
            ]
          },
          "metadata": {
            "tags": []
          }
        },
        {
          "output_type": "stream",
          "text": [
            "df_test: (516, 4)\n"
          ],
          "name": "stdout"
        },
        {
          "output_type": "display_data",
          "data": {
            "text/html": [
              "<div>\n",
              "<style scoped>\n",
              "    .dataframe tbody tr th:only-of-type {\n",
              "        vertical-align: middle;\n",
              "    }\n",
              "\n",
              "    .dataframe tbody tr th {\n",
              "        vertical-align: top;\n",
              "    }\n",
              "\n",
              "    .dataframe thead th {\n",
              "        text-align: right;\n",
              "    }\n",
              "</style>\n",
              "<table border=\"1\" class=\"dataframe\">\n",
              "  <thead>\n",
              "    <tr style=\"text-align: right;\">\n",
              "      <th></th>\n",
              "      <th>test_id</th>\n",
              "      <th>description_x</th>\n",
              "      <th>description_y</th>\n",
              "      <th>same_security</th>\n",
              "    </tr>\n",
              "  </thead>\n",
              "  <tbody>\n",
              "    <tr>\n",
              "      <th>0</th>\n",
              "      <td>0</td>\n",
              "      <td>semtech corp</td>\n",
              "      <td>semtech corporation</td>\n",
              "      <td>NaN</td>\n",
              "    </tr>\n",
              "    <tr>\n",
              "      <th>1</th>\n",
              "      <td>1</td>\n",
              "      <td>vanguard mid cap index</td>\n",
              "      <td>vanguard midcap index - a</td>\n",
              "      <td>NaN</td>\n",
              "    </tr>\n",
              "    <tr>\n",
              "      <th>2</th>\n",
              "      <td>2</td>\n",
              "      <td>spdr gold trust gold shares</td>\n",
              "      <td>spdr gold trust spdr gold shares</td>\n",
              "      <td>NaN</td>\n",
              "    </tr>\n",
              "    <tr>\n",
              "      <th>3</th>\n",
              "      <td>3</td>\n",
              "      <td>vanguard total bond index adm</td>\n",
              "      <td>vanguard total bond market index</td>\n",
              "      <td>NaN</td>\n",
              "    </tr>\n",
              "    <tr>\n",
              "      <th>4</th>\n",
              "      <td>4</td>\n",
              "      <td>oakmark international fund class i</td>\n",
              "      <td>oakmark international cl i</td>\n",
              "      <td>NaN</td>\n",
              "    </tr>\n",
              "  </tbody>\n",
              "</table>\n",
              "</div>"
            ],
            "text/plain": [
              "   test_id                       description_x  \\\n",
              "0        0                        semtech corp   \n",
              "1        1              vanguard mid cap index   \n",
              "2        2         spdr gold trust gold shares   \n",
              "3        3       vanguard total bond index adm   \n",
              "4        4  oakmark international fund class i   \n",
              "\n",
              "                      description_y  same_security  \n",
              "0               semtech corporation            NaN  \n",
              "1         vanguard midcap index - a            NaN  \n",
              "2  spdr gold trust spdr gold shares            NaN  \n",
              "3  vanguard total bond market index            NaN  \n",
              "4        oakmark international cl i            NaN  "
            ]
          },
          "metadata": {
            "tags": []
          }
        }
      ]
    },
    {
      "metadata": {
        "id": "B3lPaVDXbDd6",
        "colab_type": "text"
      },
      "cell_type": "markdown",
      "source": [
        "## Function for visualize result"
      ]
    },
    {
      "metadata": {
        "id": "G6ePUwi3bDd9",
        "colab_type": "code",
        "colab": {}
      },
      "cell_type": "code",
      "source": [
        "def cal_correct(df_temp, col, threshold):\n",
        "    df_temp[col + '_predicted'] = df_temp[col] >= threshold\n",
        "    df_temp[col + '_correct'] = df_temp[col + '_predicted'] == df_result['same_security']\n",
        "    \n",
        "    df_group = df_temp.groupby(df_temp[col + '_correct']).size().reset_index()\n",
        "    df_group.columns = ['correct', 'cnt']\n",
        "\n",
        "    plt.pie(df_group['cnt'].tolist(), labels=df_group['correct'].tolist(), autopct='%1.1f%%')\n",
        "    plt.show()    "
      ],
      "execution_count": 0,
      "outputs": []
    },
    {
      "metadata": {
        "id": "xB8CCXvRbDeI",
        "colab_type": "code",
        "colab": {}
      },
      "cell_type": "code",
      "source": [
        "thresholds = [0.4, 0.5, 0.6]"
      ],
      "execution_count": 0,
      "outputs": []
    },
    {
      "metadata": {
        "id": "f3xgDCoSbDeV",
        "colab_type": "text"
      },
      "cell_type": "markdown",
      "source": [
        "## Using Cosine Similarity to `check` whether it is same security"
      ]
    },
    {
      "metadata": {
        "id": "RM2OyjY7bDeZ",
        "colab_type": "code",
        "colab": {}
      },
      "cell_type": "code",
      "source": [
        "#import re\n",
        "#from sklearn.feature_extraction import text\n",
        "#vectorizer = text.TfidfVectorizer()\n",
        "\n",
        "#def cosine_sim(test1, test2):\n",
        " #   tfidf = vectorizer.fit_transform([test1, test2])\n",
        "  #  result = ((tfidf * tfidf.T).A)[0,1]\n",
        "   # return result\n",
        "    \n",
        "#def cosine_sim_df(df_data):\n",
        " #   col1 = 'description_x'\n",
        "  #  col2 = 'description_y'\n",
        "  #  df_data[col1] = df_data[col1].str.replace(r'\\d', '')\n",
        "  #  df_data[col2] = df_data[col2].str.replace(r'\\d', '')\n",
        "    \n",
        "  #  df_data['cos_sim'] = 0\n",
        "  #  df_data['cos_sim'] = df_data.apply(\n",
        "  #      lambda x: cosine_sim(x[col1], x[col2]), axis=1)\n",
        "  #  return df_data"
      ],
      "execution_count": 0,
      "outputs": []
    },
    {
      "metadata": {
        "id": "O__xJ74gbDen",
        "colab_type": "code",
        "colab": {
          "base_uri": "https://localhost:8080/",
          "height": 1194
        },
        "outputId": "ef96b02b-e82f-4bef-b692-6d7722b2e2a9"
      },
      "cell_type": "code",
      "source": [
        "#df_result = cosine_sim_df(df_train)\n",
        "#display(df_result.head(5))\n",
        "\n",
        "#for x in thresholds:\n",
        " #   print('threshold:', x)\n",
        "  #  cal_correct(df_result, 'cos_sim', x)"
      ],
      "execution_count": 11,
      "outputs": [
        {
          "output_type": "display_data",
          "data": {
            "text/html": [
              "<div>\n",
              "<style scoped>\n",
              "    .dataframe tbody tr th:only-of-type {\n",
              "        vertical-align: middle;\n",
              "    }\n",
              "\n",
              "    .dataframe tbody tr th {\n",
              "        vertical-align: top;\n",
              "    }\n",
              "\n",
              "    .dataframe thead th {\n",
              "        text-align: right;\n",
              "    }\n",
              "</style>\n",
              "<table border=\"1\" class=\"dataframe\">\n",
              "  <thead>\n",
              "    <tr style=\"text-align: right;\">\n",
              "      <th></th>\n",
              "      <th>train_id</th>\n",
              "      <th>description_x</th>\n",
              "      <th>description_y</th>\n",
              "      <th>ticker_x</th>\n",
              "      <th>ticker_y</th>\n",
              "      <th>same_security</th>\n",
              "      <th>cos_sim</th>\n",
              "      <th>cos_sim_predicted</th>\n",
              "      <th>cos_sim_correct</th>\n",
              "    </tr>\n",
              "  </thead>\n",
              "  <tbody>\n",
              "    <tr>\n",
              "      <th>0</th>\n",
              "      <td>0</td>\n",
              "      <td>first trust dow jones internet</td>\n",
              "      <td>first trust dj internet idx</td>\n",
              "      <td>FDN</td>\n",
              "      <td>FDN</td>\n",
              "      <td>True</td>\n",
              "      <td>0.431613</td>\n",
              "      <td>False</td>\n",
              "      <td>False</td>\n",
              "    </tr>\n",
              "    <tr>\n",
              "      <th>1</th>\n",
              "      <td>1</td>\n",
              "      <td>schwab intl large company index etf</td>\n",
              "      <td>schwab strategic tr fundamental intl large co ...</td>\n",
              "      <td>FNDF</td>\n",
              "      <td>FNDF</td>\n",
              "      <td>True</td>\n",
              "      <td>0.527072</td>\n",
              "      <td>False</td>\n",
              "      <td>False</td>\n",
              "    </tr>\n",
              "    <tr>\n",
              "      <th>2</th>\n",
              "      <td>2</td>\n",
              "      <td>vanguard small cap index adm</td>\n",
              "      <td>vanguard small-cap index fund inst</td>\n",
              "      <td>VSMAX</td>\n",
              "      <td>VSCIX</td>\n",
              "      <td>False</td>\n",
              "      <td>0.580333</td>\n",
              "      <td>False</td>\n",
              "      <td>True</td>\n",
              "    </tr>\n",
              "    <tr>\n",
              "      <th>3</th>\n",
              "      <td>3</td>\n",
              "      <td>duke energy corp new com new isin #us sedol #b...</td>\n",
              "      <td>duke energy corp new com new isin #usc sedol #...</td>\n",
              "      <td>DUK</td>\n",
              "      <td>DUK</td>\n",
              "      <td>True</td>\n",
              "      <td>0.716812</td>\n",
              "      <td>True</td>\n",
              "      <td>True</td>\n",
              "    </tr>\n",
              "    <tr>\n",
              "      <th>4</th>\n",
              "      <td>4</td>\n",
              "      <td>visa inc class a</td>\n",
              "      <td>visa inc.</td>\n",
              "      <td>V</td>\n",
              "      <td>V</td>\n",
              "      <td>True</td>\n",
              "      <td>0.709297</td>\n",
              "      <td>True</td>\n",
              "      <td>True</td>\n",
              "    </tr>\n",
              "  </tbody>\n",
              "</table>\n",
              "</div>"
            ],
            "text/plain": [
              "   train_id                                      description_x  \\\n",
              "0         0                     first trust dow jones internet   \n",
              "1         1                schwab intl large company index etf   \n",
              "2         2                       vanguard small cap index adm   \n",
              "3         3  duke energy corp new com new isin #us sedol #b...   \n",
              "4         4                                   visa inc class a   \n",
              "\n",
              "                                       description_y ticker_x ticker_y  \\\n",
              "0                        first trust dj internet idx      FDN      FDN   \n",
              "1  schwab strategic tr fundamental intl large co ...     FNDF     FNDF   \n",
              "2                 vanguard small-cap index fund inst    VSMAX    VSCIX   \n",
              "3  duke energy corp new com new isin #usc sedol #...      DUK      DUK   \n",
              "4                                          visa inc.        V        V   \n",
              "\n",
              "   same_security   cos_sim  cos_sim_predicted  cos_sim_correct  \n",
              "0           True  0.431613              False            False  \n",
              "1           True  0.527072              False            False  \n",
              "2          False  0.580333              False             True  \n",
              "3           True  0.716812               True             True  \n",
              "4           True  0.709297               True             True  "
            ]
          },
          "metadata": {
            "tags": []
          }
        },
        {
          "output_type": "stream",
          "text": [
            "threshold: 0.4\n"
          ],
          "name": "stdout"
        },
        {
          "output_type": "display_data",
          "data": {
            "image/png": "[encoded data removed]",
            "text/plain": [
              "<matplotlib.figure.Figure at 0x7f46f6869b38>"
            ]
          },
          "metadata": {
            "tags": []
          }
        },
        {
          "output_type": "stream",
          "text": [
            "threshold: 0.5\n"
          ],
          "name": "stdout"
        },
        {
          "output_type": "display_data",
          "data": {
            "image/png": "[encoded data removed]",
            "text/plain": [
              "<matplotlib.figure.Figure at 0x7f46f688fd68>"
            ]
          },
          "metadata": {
            "tags": []
          }
        },
        {
          "output_type": "stream",
          "text": [
            "threshold: 0.6\n"
          ],
          "name": "stdout"
        },
        {
          "output_type": "display_data",
          "data": {
            "image/png": "[encoded data removed]",
            "text/plain": [
              "<matplotlib.figure.Figure at 0x7f46f68429e8>"
            ]
          },
          "metadata": {
            "tags": []
          }
        }
      ]
    },
    {
      "metadata": {
        "id": "E8wSDeDdbDex",
        "colab_type": "code",
        "colab": {
          "base_uri": "https://localhost:8080/",
          "height": 197
        },
        "outputId": "9aaab739-0f65-4a01-8770-909218f80e30"
      },
      "cell_type": "code",
      "source": [
        "#axis('equal')\n",
        "#pie(sums, labels=sums.index)\n",
        "#show()"
      ],
      "execution_count": 12,
      "outputs": [
        {
          "output_type": "error",
          "ename": "NameError",
          "evalue": "ignored",
          "traceback": [
            "\u001b[0;31m---------------------------------------------------------------------------\u001b[0m",
            "\u001b[0;31mNameError\u001b[0m                                 Traceback (most recent call last)",
            "\u001b[0;32m<ipython-input-12-c92cc4694820>\u001b[0m in \u001b[0;36m<module>\u001b[0;34m()\u001b[0m\n\u001b[0;32m----> 1\u001b[0;31m \u001b[0maxis\u001b[0m\u001b[0;34m(\u001b[0m\u001b[0;34m'equal'\u001b[0m\u001b[0;34m)\u001b[0m\u001b[0;34m\u001b[0m\u001b[0m\n\u001b[0m\u001b[1;32m      2\u001b[0m \u001b[0mpie\u001b[0m\u001b[0;34m(\u001b[0m\u001b[0msums\u001b[0m\u001b[0;34m,\u001b[0m \u001b[0mlabels\u001b[0m\u001b[0;34m=\u001b[0m\u001b[0msums\u001b[0m\u001b[0;34m.\u001b[0m\u001b[0mindex\u001b[0m\u001b[0;34m)\u001b[0m\u001b[0;34m\u001b[0m\u001b[0m\n\u001b[1;32m      3\u001b[0m \u001b[0mshow\u001b[0m\u001b[0;34m(\u001b[0m\u001b[0;34m)\u001b[0m\u001b[0;34m\u001b[0m\u001b[0m\n",
            "\u001b[0;31mNameError\u001b[0m: name 'axis' is not defined"
          ]
        }
      ]
    },
    {
      "metadata": {
        "id": "SCtw0TSFbDfF",
        "colab_type": "text"
      },
      "cell_type": "markdown",
      "source": [
        "## Using SequenceMatcher to `check` whether it is same security"
      ]
    },
    {
      "metadata": {
        "id": "ENGfMCm8bDfK",
        "colab_type": "code",
        "colab": {}
      },
      "cell_type": "code",
      "source": [
        "from difflib import SequenceMatcher\n",
        "\n",
        "def seq_match(test1, test2):\n",
        "    return SequenceMatcher(None, test1, test2).ratio()\n",
        "    \n",
        "def seq_match_df(df_data):\n",
        "    col1 = 'description_x'\n",
        "    col2 = 'description_y'\n",
        "    df_data[col1] = df_data[col1].str.replace(r'\\d', '')\n",
        "    df_data[col2] = df_data[col2].str.replace(r'\\d', '')\n",
        "    \n",
        "    df_data['seq_match'] = 0\n",
        "    df_data['seq_match'] = df_data.apply(\n",
        "        lambda x: seq_match(x[col1], x[col2]), axis=1)\n",
        "    \n",
        "    return df_data"
      ],
      "execution_count": 0,
      "outputs": []
    },
    {
      "metadata": {
        "id": "pDPCBVqibDfW",
        "colab_type": "code",
        "colab": {
          "base_uri": "https://localhost:8080/",
          "height": 1194
        },
        "outputId": "2d166c52-df16-4f8d-8996-e98230134679"
      },
      "cell_type": "code",
      "source": [
        "df_result = seq_match_df(df_train)\n",
        "display(df_result.head(5))\n",
        "\n",
        "for x in thresholds:\n",
        "    print('threshold:', x)\n",
        "    cal_correct(df_result, 'seq_match', x)"
      ],
      "execution_count": 10,
      "outputs": [
        {
          "output_type": "display_data",
          "data": {
            "text/html": [
              "<div>\n",
              "<style scoped>\n",
              "    .dataframe tbody tr th:only-of-type {\n",
              "        vertical-align: middle;\n",
              "    }\n",
              "\n",
              "    .dataframe tbody tr th {\n",
              "        vertical-align: top;\n",
              "    }\n",
              "\n",
              "    .dataframe thead th {\n",
              "        text-align: right;\n",
              "    }\n",
              "</style>\n",
              "<table border=\"1\" class=\"dataframe\">\n",
              "  <thead>\n",
              "    <tr style=\"text-align: right;\">\n",
              "      <th></th>\n",
              "      <th>train_id</th>\n",
              "      <th>description_x</th>\n",
              "      <th>description_y</th>\n",
              "      <th>ticker_x</th>\n",
              "      <th>ticker_y</th>\n",
              "      <th>same_security</th>\n",
              "      <th>seq_match</th>\n",
              "    </tr>\n",
              "  </thead>\n",
              "  <tbody>\n",
              "    <tr>\n",
              "      <th>0</th>\n",
              "      <td>0</td>\n",
              "      <td>first trust dow jones internet</td>\n",
              "      <td>first trust dj internet idx</td>\n",
              "      <td>FDN</td>\n",
              "      <td>FDN</td>\n",
              "      <td>True</td>\n",
              "      <td>0.807018</td>\n",
              "    </tr>\n",
              "    <tr>\n",
              "      <th>1</th>\n",
              "      <td>1</td>\n",
              "      <td>schwab intl large company index etf</td>\n",
              "      <td>schwab strategic tr fundamental intl large co ...</td>\n",
              "      <td>FNDF</td>\n",
              "      <td>FNDF</td>\n",
              "      <td>True</td>\n",
              "      <td>0.666667</td>\n",
              "    </tr>\n",
              "    <tr>\n",
              "      <th>2</th>\n",
              "      <td>2</td>\n",
              "      <td>vanguard small cap index adm</td>\n",
              "      <td>vanguard small-cap index fund inst</td>\n",
              "      <td>VSMAX</td>\n",
              "      <td>VSCIX</td>\n",
              "      <td>False</td>\n",
              "      <td>0.806452</td>\n",
              "    </tr>\n",
              "    <tr>\n",
              "      <th>3</th>\n",
              "      <td>3</td>\n",
              "      <td>duke energy corp new com new isin #us sedol #b...</td>\n",
              "      <td>duke energy corp new com new isin #usc sedol #...</td>\n",
              "      <td>DUK</td>\n",
              "      <td>DUK</td>\n",
              "      <td>True</td>\n",
              "      <td>0.980000</td>\n",
              "    </tr>\n",
              "    <tr>\n",
              "      <th>4</th>\n",
              "      <td>4</td>\n",
              "      <td>visa inc class a</td>\n",
              "      <td>visa inc.</td>\n",
              "      <td>V</td>\n",
              "      <td>V</td>\n",
              "      <td>True</td>\n",
              "      <td>0.640000</td>\n",
              "    </tr>\n",
              "  </tbody>\n",
              "</table>\n",
              "</div>"
            ],
            "text/plain": [
              "   train_id                                      description_x  \\\n",
              "0         0                     first trust dow jones internet   \n",
              "1         1                schwab intl large company index etf   \n",
              "2         2                       vanguard small cap index adm   \n",
              "3         3  duke energy corp new com new isin #us sedol #b...   \n",
              "4         4                                   visa inc class a   \n",
              "\n",
              "                                       description_y ticker_x ticker_y  \\\n",
              "0                        first trust dj internet idx      FDN      FDN   \n",
              "1  schwab strategic tr fundamental intl large co ...     FNDF     FNDF   \n",
              "2                 vanguard small-cap index fund inst    VSMAX    VSCIX   \n",
              "3  duke energy corp new com new isin #usc sedol #...      DUK      DUK   \n",
              "4                                          visa inc.        V        V   \n",
              "\n",
              "   same_security  seq_match  \n",
              "0           True   0.807018  \n",
              "1           True   0.666667  \n",
              "2          False   0.806452  \n",
              "3           True   0.980000  \n",
              "4           True   0.640000  "
            ]
          },
          "metadata": {
            "tags": []
          }
        },
        {
          "output_type": "stream",
          "text": [
            "threshold: 0.4\n"
          ],
          "name": "stdout"
        },
        {
          "output_type": "display_data",
          "data": {
            "image/png": "[encoded data removed]",
            "text/plain": [
              "<matplotlib.figure.Figure at 0x7fbef2256e80>"
            ]
          },
          "metadata": {
            "tags": []
          }
        },
        {
          "output_type": "stream",
          "text": [
            "threshold: 0.5\n"
          ],
          "name": "stdout"
        },
        {
          "output_type": "display_data",
          "data": {
            "image/png": "[encoded data removed]",
            "text/plain": [
              "<matplotlib.figure.Figure at 0x7fbee60cda90>"
            ]
          },
          "metadata": {
            "tags": []
          }
        },
        {
          "output_type": "stream",
          "text": [
            "threshold: 0.6\n"
          ],
          "name": "stdout"
        },
        {
          "output_type": "display_data",
          "data": {
            "image/png": "[encoded data removed]",
            "text/plain": [
              "<matplotlib.figure.Figure at 0x7fbee37c54a8>"
            ]
          },
          "metadata": {
            "tags": []
          }
        }
      ]
    },
    {
      "metadata": {
        "id": "yMxKVWDEbDfe",
        "colab_type": "text"
      },
      "cell_type": "markdown",
      "source": [
        "# **classification engine**"
      ]
    },
    {
      "metadata": {
        "id": "CcaYxPN-bDfi",
        "colab_type": "code",
        "colab": {
          "base_uri": "https://localhost:8080/",
          "height": 517
        },
        "outputId": "57cc03d6-7a7a-4a2d-da48-22556fac0b4d"
      },
      "cell_type": "code",
      "source": [
        "df_result = seq_match_df(df_test )\n",
        "display(df_result.head(5))\n",
        "\n",
        "df_result['same_security'] = df_result['seq_match'] > 0.5    \n",
        "df_group = df_result.groupby('same_security').size().reset_index()\n",
        "df_group.columns = ['correct', 'cnt']\n",
        "\n",
        "plt.pie(df_group['cnt'].tolist(), labels=df_group['correct'].tolist(), autopct='%1.1f%%')\n",
        "plt.show()    "
      ],
      "execution_count": 11,
      "outputs": [
        {
          "output_type": "display_data",
          "data": {
            "text/html": [
              "<div>\n",
              "<style scoped>\n",
              "    .dataframe tbody tr th:only-of-type {\n",
              "        vertical-align: middle;\n",
              "    }\n",
              "\n",
              "    .dataframe tbody tr th {\n",
              "        vertical-align: top;\n",
              "    }\n",
              "\n",
              "    .dataframe thead th {\n",
              "        text-align: right;\n",
              "    }\n",
              "</style>\n",
              "<table border=\"1\" class=\"dataframe\">\n",
              "  <thead>\n",
              "    <tr style=\"text-align: right;\">\n",
              "      <th></th>\n",
              "      <th>test_id</th>\n",
              "      <th>description_x</th>\n",
              "      <th>description_y</th>\n",
              "      <th>same_security</th>\n",
              "      <th>seq_match</th>\n",
              "    </tr>\n",
              "  </thead>\n",
              "  <tbody>\n",
              "    <tr>\n",
              "      <th>0</th>\n",
              "      <td>0</td>\n",
              "      <td>semtech corp</td>\n",
              "      <td>semtech corporation</td>\n",
              "      <td>NaN</td>\n",
              "      <td>0.774194</td>\n",
              "    </tr>\n",
              "    <tr>\n",
              "      <th>1</th>\n",
              "      <td>1</td>\n",
              "      <td>vanguard mid cap index</td>\n",
              "      <td>vanguard midcap index - a</td>\n",
              "      <td>NaN</td>\n",
              "      <td>0.893617</td>\n",
              "    </tr>\n",
              "    <tr>\n",
              "      <th>2</th>\n",
              "      <td>2</td>\n",
              "      <td>spdr gold trust gold shares</td>\n",
              "      <td>spdr gold trust spdr gold shares</td>\n",
              "      <td>NaN</td>\n",
              "      <td>0.915254</td>\n",
              "    </tr>\n",
              "    <tr>\n",
              "      <th>3</th>\n",
              "      <td>3</td>\n",
              "      <td>vanguard total bond index adm</td>\n",
              "      <td>vanguard total bond market index</td>\n",
              "      <td>NaN</td>\n",
              "      <td>0.819672</td>\n",
              "    </tr>\n",
              "    <tr>\n",
              "      <th>4</th>\n",
              "      <td>4</td>\n",
              "      <td>oakmark international fund class i</td>\n",
              "      <td>oakmark international cl i</td>\n",
              "      <td>NaN</td>\n",
              "      <td>0.866667</td>\n",
              "    </tr>\n",
              "  </tbody>\n",
              "</table>\n",
              "</div>"
            ],
            "text/plain": [
              "   test_id                       description_x  \\\n",
              "0        0                        semtech corp   \n",
              "1        1              vanguard mid cap index   \n",
              "2        2         spdr gold trust gold shares   \n",
              "3        3       vanguard total bond index adm   \n",
              "4        4  oakmark international fund class i   \n",
              "\n",
              "                      description_y  same_security  seq_match  \n",
              "0               semtech corporation            NaN   0.774194  \n",
              "1         vanguard midcap index - a            NaN   0.893617  \n",
              "2  spdr gold trust spdr gold shares            NaN   0.915254  \n",
              "3  vanguard total bond market index            NaN   0.819672  \n",
              "4        oakmark international cl i            NaN   0.866667  "
            ]
          },
          "metadata": {
            "tags": []
          }
        },
        {
          "output_type": "display_data",
          "data": {
            "image/png": "[encoded data removed]",
            "text/plain": [
              "<matplotlib.figure.Figure at 0x7fbee374a550>"
            ]
          },
          "metadata": {
            "tags": []
          }
        }
      ]
    }
  ]
}